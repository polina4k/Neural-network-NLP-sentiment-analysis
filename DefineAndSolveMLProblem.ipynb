{
 "cells": [
  {
   "cell_type": "markdown",
   "metadata": {},
   "source": [
    "# Lab 8: Define and Solve an ML Problem of Your Choosing"
   ]
  },
  {
   "cell_type": "code",
   "execution_count": 2,
   "metadata": {},
   "outputs": [],
   "source": [
    "import pandas as pd\n",
    "import numpy as np\n",
    "import os \n",
    "import matplotlib.pyplot as plt\n",
    "import seaborn as sns"
   ]
  },
  {
   "cell_type": "markdown",
   "metadata": {},
   "source": [
    "In this lab assignment, you will follow the machine learning life cycle and implement a model to solve a machine learning problem of your choosing. You will select a data set and choose a predictive problem that the data set supports.  You will then inspect the data with your problem in mind and begin to formulate a  project plan. You will then implement the machine learning project plan. \n",
    "\n",
    "You will complete the following tasks:\n",
    "\n",
    "1. Build Your DataFrame\n",
    "2. Define Your ML Problem\n",
    "3. Perform exploratory data analysis to understand your data.\n",
    "4. Define Your Project Plan\n",
    "5. Implement Your Project Plan:\n",
    "    * Prepare your data for your model.\n",
    "    * Fit your model to the training data and evaluate your model.\n",
    "    * Improve your model's performance."
   ]
  },
  {
   "cell_type": "markdown",
   "metadata": {},
   "source": [
    "## Part 1: Build Your DataFrame\n",
    "\n",
    "You will have the option to choose one of four data sets that you have worked with in this program:\n",
    "\n",
    "* The \"census\" data set that contains Census information from 1994: `censusData.csv`\n",
    "* Airbnb NYC \"listings\" data set: `airbnbListingsData.csv`\n",
    "* World Happiness Report (WHR) data set: `WHR2018Chapter2OnlineData.csv`\n",
    "* Book Review data set: `bookReviewsData.csv`\n",
    "\n",
    "Note that these are variations of the data sets that you have worked with in this program. For example, some do not include some of the preprocessing necessary for specific models. \n",
    "\n",
    "#### Load a Data Set and Save it as a Pandas DataFrame\n",
    "\n",
    "The code cell below contains filenames (path + filename) for each of the four data sets available to you.\n",
    "\n",
    "<b>Task:</b> In the code cell below, use the same method you have been using to load the data using `pd.read_csv()` and save it to DataFrame `df`. \n",
    "\n",
    "You can load each file as a new DataFrame to inspect the data before choosing your data set."
   ]
  },
  {
   "cell_type": "code",
   "execution_count": 3,
   "metadata": {},
   "outputs": [
    {
     "data": {
      "text/html": [
       "<div>\n",
       "<style scoped>\n",
       "    .dataframe tbody tr th:only-of-type {\n",
       "        vertical-align: middle;\n",
       "    }\n",
       "\n",
       "    .dataframe tbody tr th {\n",
       "        vertical-align: top;\n",
       "    }\n",
       "\n",
       "    .dataframe thead th {\n",
       "        text-align: right;\n",
       "    }\n",
       "</style>\n",
       "<table border=\"1\" class=\"dataframe\">\n",
       "  <thead>\n",
       "    <tr style=\"text-align: right;\">\n",
       "      <th></th>\n",
       "      <th>Review</th>\n",
       "      <th>Positive Review</th>\n",
       "    </tr>\n",
       "  </thead>\n",
       "  <tbody>\n",
       "    <tr>\n",
       "      <th>0</th>\n",
       "      <td>This was perhaps the best of Johannes Steinhof...</td>\n",
       "      <td>True</td>\n",
       "    </tr>\n",
       "    <tr>\n",
       "      <th>1</th>\n",
       "      <td>This very fascinating book is a story written ...</td>\n",
       "      <td>True</td>\n",
       "    </tr>\n",
       "    <tr>\n",
       "      <th>2</th>\n",
       "      <td>The four tales in this collection are beautifu...</td>\n",
       "      <td>True</td>\n",
       "    </tr>\n",
       "    <tr>\n",
       "      <th>3</th>\n",
       "      <td>The book contained more profanity than I expec...</td>\n",
       "      <td>False</td>\n",
       "    </tr>\n",
       "    <tr>\n",
       "      <th>4</th>\n",
       "      <td>We have now entered a second time of deep conc...</td>\n",
       "      <td>True</td>\n",
       "    </tr>\n",
       "  </tbody>\n",
       "</table>\n",
       "</div>"
      ],
      "text/plain": [
       "                                              Review  Positive Review\n",
       "0  This was perhaps the best of Johannes Steinhof...             True\n",
       "1  This very fascinating book is a story written ...             True\n",
       "2  The four tales in this collection are beautifu...             True\n",
       "3  The book contained more profanity than I expec...            False\n",
       "4  We have now entered a second time of deep conc...             True"
      ]
     },
     "execution_count": 3,
     "metadata": {},
     "output_type": "execute_result"
    }
   ],
   "source": [
    "# File names of the four data sets\n",
    "adultDataSet_filename = os.path.join(os.getcwd(), \"data\", \"censusData.csv\")\n",
    "airbnbDataSet_filename = os.path.join(os.getcwd(), \"data\", \"airbnbListingsData.csv\")\n",
    "WHRDataSet_filename = os.path.join(os.getcwd(), \"data\", \"WHR2018Chapter2OnlineData.csv\")\n",
    "bookReviewDataSet_filename = os.path.join(os.getcwd(), \"data\", \"bookReviewsData.csv\")\n",
    "\n",
    "\n",
    "df = pd.read_csv(bookReviewDataSet_filename)\n",
    "\n",
    "df.head()"
   ]
  },
  {
   "cell_type": "markdown",
   "metadata": {},
   "source": [
    "## Part 2: Define Your ML Problem\n",
    "\n",
    "Next you will formulate your ML Problem. In the markdown cell below, answer the following questions:\n",
    "\n",
    "1. List the data set you have chosen.\n",
    "2. What will you be predicting? What is the label?\n",
    "3. Is this a supervised or unsupervised learning problem? Is this a clustering, classification or regression problem? Is it a binary classificaiton or multi-class classifiction problem?\n",
    "4. What are your features? (note: this list may change after your explore your data)\n",
    "5. Explain why this is an important problem. In other words, how would a company create value with a model that predicts this label?"
   ]
  },
  {
   "cell_type": "markdown",
   "metadata": {},
   "source": [
    "I have chosen the book review data set. I will be predicting whether a book review has a positive sentiment. This is a supervised classification learning algorithm with a binary label. The features of the data set are the review text, and the label is a True/False label if the review is positive. This problem is important because there are many instances where a company may want to scrape large amounts of reviews and determine the general sentiment of what people thing about a given product. For example, stockbrockers will want to know if a new product has generally positive or negative reviews to determine if stocks should be purchased for that company that released it."
   ]
  },
  {
   "cell_type": "markdown",
   "metadata": {},
   "source": [
    "## Part 3: Understand Your Data\n",
    "\n",
    "The next step is to perform exploratory data analysis. Inspect and analyze your data set with your machine learning problem in mind. Consider the following as you inspect your data:\n",
    "\n",
    "1. What data preparation techniques would you like to use? These data preparation techniques may include:\n",
    "\n",
    "    * addressing missingness, such as replacing missing values with means\n",
    "    * finding and replacing outliers\n",
    "    * renaming features and labels\n",
    "    * finding and replacing outliers\n",
    "    * performing feature engineering techniques such as one-hot encoding on categorical features\n",
    "    * selecting appropriate features and removing irrelevant features\n",
    "    * performing specific data cleaning and preprocessing techniques for an NLP problem\n",
    "    * addressing class imbalance in your data sample to promote fair AI\n",
    "    \n",
    "\n",
    "2. What machine learning model (or models) you would like to use that is suitable for your predictive problem and data?\n",
    "    * Are there other data preparation techniques that you will need to apply to build a balanced modeling data set for your problem and model? For example, will you need to scale your data?\n",
    " \n",
    " \n",
    "3. How will you evaluate and improve the model's performance?\n",
    "    * Are there specific evaluation metrics and methods that are appropriate for your model?\n",
    "    \n",
    "\n",
    "Think of the different techniques you have used to inspect and analyze your data in this course. These include using Pandas to apply data filters, using the Pandas `describe()` method to get insight into key statistics for each column, using the Pandas `dtypes` property to inspect the data type of each column, and using Matplotlib and Seaborn to detect outliers and visualize relationships between features and labels. If you are working on a classification problem, use techniques you have learned to determine if there is class imbalance.\n",
    "\n",
    "<b>Task</b>: Use the techniques you have learned in this course to inspect and analyze your data. You can import additional packages that you have used in this course that you will need to perform this task.\n",
    "\n",
    "<b>Note</b>: You can add code cells if needed by going to the <b>Insert</b> menu and clicking on <b>Insert Cell Below</b> in the drop-drown menu."
   ]
  },
  {
   "cell_type": "code",
   "execution_count": 4,
   "metadata": {},
   "outputs": [],
   "source": [
    "from sklearn.feature_extraction.text import TfidfVectorizer\n",
    "from sklearn.model_selection import train_test_split\n",
    "\n",
    "\n",
    "df[\"Positive Review\"].value_counts()\n",
    "X = df[\"Review\"]\n",
    "y = df[\"Positive Review\"]\n",
    "X_train, X_test, y_train, y_test = train_test_split(X, y, train_size=.75, random_state=1234)\n",
    "tfidf_vectorizer = TfidfVectorizer()\n",
    "tfidf_vectorizer.fit(X_train)\n",
    "X_train_tfidf = tfidf_vectorizer.transform(X_train)\n",
    "X_test_tfidf = tfidf_vectorizer.transform(X_test)\n",
    "\n",
    "X_train_tfidf = X_train_tfidf.toarray()\n",
    "X_test_tfidf = X_test_tfidf.toarray()\n",
    "y_train_encoded = y_train.astype(int)\n",
    "y_test_encoded = y_test.astype(int)"
   ]
  },
  {
   "cell_type": "markdown",
   "metadata": {},
   "source": [
    "## Part 4: Define Your Project Plan\n",
    "\n",
    "Now that you understand your data, in the markdown cell below, define your plan to implement the remaining phases of the machine learning life cycle (data preparation, modeling, evaluation) to solve your ML problem. Answer the following questions:\n",
    "\n",
    "* Do you have a new feature list? If so, what are the features that you chose to keep and remove after inspecting the data? \n",
    "* Explain different data preparation techniques that you will use to prepare your data for modeling.\n",
    "* What is your model (or models)?\n",
    "* Describe your plan to train your model, analyze its performance and then improve the model. That is, describe your model building, validation and selection plan to produce a model that generalizes well to new data. "
   ]
  },
  {
   "cell_type": "markdown",
   "metadata": {},
   "source": [
    "I applied tf-idf to each review, so every single review got turned into a sparce high dimensional vector with the number of columns equal to the vocabulary list of the review corpus, where every word that is present is given some weight (high if the word is frequent in this doc but rare in others). I also converted the sparce matrices to numpy arrays and encoded the labels. This is needed in order to turn the text data into numeric vector data which machine learning models are able to work with. The model I am intending to use is a dense neural network. In order to find the best parameters I will use a parameter grid first on the first layer, and then on the second. I will test the units, as well as a drop off layer to prevent overfitting of the test data."
   ]
  },
  {
   "cell_type": "markdown",
   "metadata": {},
   "source": [
    "## Part 5: Implement Your Project Plan\n",
    "\n",
    "<b>Task:</b> In the code cell below, import additional packages that you have used in this course that you will need to implement your project plan."
   ]
  },
  {
   "cell_type": "code",
   "execution_count": 5,
   "metadata": {},
   "outputs": [],
   "source": [
    "import tensorflow.keras as keras\n"
   ]
  },
  {
   "cell_type": "markdown",
   "metadata": {},
   "source": [
    "<b>Task:</b> Use the rest of this notebook to carry out your project plan. \n",
    "\n",
    "You will:\n",
    "\n",
    "1. Prepare your data for your model.\n",
    "2. Fit your model to the training data and evaluate your model.\n",
    "3. Improve your model's performance by performing model selection and/or feature selection techniques to find best model for your problem.\n",
    "\n",
    "Add code cells below and populate the notebook with commentary, code, analyses, results, and figures as you see fit. "
   ]
  },
  {
   "cell_type": "code",
   "execution_count": 6,
   "metadata": {},
   "outputs": [],
   "source": [
    "def build_model(units, dropout, learning_rate = 0.1):\n",
    "    model = keras.Sequential()\n",
    "    model.add(keras.layers.Dense(units = units, \n",
    "                                 activation = 'relu',\n",
    "                                 input_shape=(X_train_tfidf.shape[1],)))\n",
    "    model.add(keras.layers.Dropout(dropout))\n",
    "    model.add(keras.layers.Dense(1, activation='sigmoid'))\n",
    "    model.compile(optimizer= keras.optimizers.SGD(learning_rate),\n",
    "                           loss='binary_crossentropy',\n",
    "                           metrics=['accuracy']) \n",
    "    return model"
   ]
  },
  {
   "cell_type": "code",
   "execution_count": 13,
   "metadata": {},
   "outputs": [
    {
     "name": "stdout",
     "output_type": "stream",
     "text": [
      "[{'units': 64, 'dropout': 0.2, 'lr': 0.1}, {'units': 64, 'dropout': 0.3, 'lr': 0.1}, {'units': 64, 'dropout': 0.4, 'lr': 0.1}, {'units': 96, 'dropout': 0.2, 'lr': 0.1}, {'units': 96, 'dropout': 0.3, 'lr': 0.1}, {'units': 96, 'dropout': 0.4, 'lr': 0.1}, {'units': 128, 'dropout': 0.2, 'lr': 0.1}, {'units': 128, 'dropout': 0.3, 'lr': 0.1}, {'units': 128, 'dropout': 0.4, 'lr': 0.1}]\n"
     ]
    }
   ],
   "source": [
    "units_list = [64, 96, 128]\n",
    "dropout_list = [0.2, 0.3, 0.4]\n",
    "lr_list = [0.1]\n",
    "\n",
    "param_grid = []\n",
    "\n",
    "for units in units_list:\n",
    "    for dropout in dropout_list:\n",
    "        for lr in lr_list:\n",
    "            param_grid.append({\n",
    "                'units': units,\n",
    "                'dropout': dropout,\n",
    "                'lr': lr\n",
    "            })\n",
    "print(param_grid)"
   ]
  },
  {
   "cell_type": "code",
   "execution_count": 8,
   "metadata": {},
   "outputs": [],
   "source": [
    "import gc\n",
    "from tensorflow.keras import backend as K #not clearing the model kept crashing the kernel"
   ]
  },
  {
   "cell_type": "code",
   "execution_count": 24,
   "metadata": {},
   "outputs": [
    {
     "name": "stdout",
     "output_type": "stream",
     "text": [
      "Training with params: {'units': 64, 'dropout': 0.2, 'lr': 0.1}\n",
      "→ Accuracy: 0.7591\n",
      "Training with params: {'units': 64, 'dropout': 0.3, 'lr': 0.1}\n",
      "→ Accuracy: 0.5810\n",
      "Training with params: {'units': 64, 'dropout': 0.4, 'lr': 0.1}\n",
      "→ Accuracy: 0.7085\n",
      "Training with params: {'units': 96, 'dropout': 0.2, 'lr': 0.1}\n",
      "→ Accuracy: 0.5951\n",
      "Training with params: {'units': 96, 'dropout': 0.3, 'lr': 0.1}\n",
      "→ Accuracy: 0.5405\n",
      "Training with params: {'units': 96, 'dropout': 0.4, 'lr': 0.1}\n",
      "→ Accuracy: 0.6073\n",
      "Training with params: {'units': 128, 'dropout': 0.2, 'lr': 0.1}\n",
      "→ Accuracy: 0.6579\n",
      "Training with params: {'units': 128, 'dropout': 0.3, 'lr': 0.1}\n",
      "→ Accuracy: 0.5020\n",
      "Training with params: {'units': 128, 'dropout': 0.4, 'lr': 0.1}\n",
      "→ Accuracy: 0.5162\n",
      "Best Accuracy: 0.7591\n",
      "Best parameters: {'units': 64, 'dropout': 0.2, 'lr': 0.1}\n"
     ]
    }
   ],
   "source": [
    "\n",
    "best_acc = 0\n",
    "best_params = None\n",
    "best_model = None\n",
    "\n",
    "for params in param_grid:\n",
    "    print(f\"Training with params: {params}\")\n",
    "    \n",
    "    model = build_model(units = params['units'],\n",
    "                        dropout=params['dropout'],\n",
    "                        learning_rate=params['lr'])\n",
    "    \n",
    "    history = model.fit(X_train_tfidf,\n",
    "             y_train_encoded,\n",
    "              epochs = 10,\n",
    "              batch_size = 32,\n",
    "              validation_split = 0.2,\n",
    "              verbose = 0)\n",
    "    loss, acc = model.evaluate(X_test_tfidf, y_test_encoded, verbose=0)\n",
    "    print(f\"→ Accuracy: {acc:.4f}\")\n",
    "    \n",
    "    if acc > best_acc:\n",
    "        best_acc = acc\n",
    "        best_params = params\n",
    "        best_model = model\n",
    "        \n",
    "    K.clear_session()\n",
    "    del model\n",
    "    gc.collect()\n",
    "    \n",
    "print(\"Best Accuracy: {:.4f}\".format(best_acc))\n",
    "print(\"Best parameters:\", best_params)\n",
    "    "
   ]
  },
  {
   "cell_type": "code",
   "execution_count": 14,
   "metadata": {},
   "outputs": [],
   "source": [
    "#adding another layer to bump up accuracy with the current best parameters:\n",
    "#'units': 64, 'dropout': 0.4, 'lr': 0.1"
   ]
  },
  {
   "cell_type": "code",
   "execution_count": 6,
   "metadata": {},
   "outputs": [],
   "source": [
    "def build_model_secondlayer(units, learning_rate = 0.1):\n",
    "    model = keras.Sequential()\n",
    "    model.add(keras.layers.Dense(units = 64, \n",
    "                                 activation = 'relu',\n",
    "                                 input_shape=(X_train_tfidf.shape[1],)))\n",
    "    model.add(keras.layers.Dropout(0.4))\n",
    "    \n",
    "    model.add(keras.layers.Dense(units = units, \n",
    "                                 activation = 'relu',\n",
    "                                 input_shape=(X_train_tfidf.shape[1],)))\n",
    "    \n",
    "    model.add(keras.layers.Dense(1, activation='sigmoid'))\n",
    "    model.compile(optimizer= keras.optimizers.SGD(learning_rate),\n",
    "                           loss='binary_crossentropy',\n",
    "                           metrics=['accuracy']) \n",
    "    return model"
   ]
  },
  {
   "cell_type": "code",
   "execution_count": 26,
   "metadata": {},
   "outputs": [
    {
     "name": "stdout",
     "output_type": "stream",
     "text": [
      "Training with units: 16\n",
      "→ Accuracy: 0.7814\n",
      "Training with units: 32\n",
      "→ Accuracy: 0.5628\n",
      "Training with units: 64\n",
      "→ Accuracy: 0.7146\n",
      "Best Accuracy: 0.7814\n"
     ]
    }
   ],
   "source": [
    "\n",
    "best_acc = 0\n",
    "best_params = None\n",
    "best_model = None\n",
    "\n",
    "units = {16, 32, 64}\n",
    "for units in units:\n",
    "    print(f\"Training with units: {units}\")\n",
    "    \n",
    "    model = build_model_secondlayer(units = units,\n",
    "                        learning_rate= 0.1)\n",
    "    \n",
    "    history = model.fit(X_train_tfidf,\n",
    "             y_train_encoded,\n",
    "              epochs = 10,\n",
    "              batch_size = 32,\n",
    "              validation_split = 0.2,\n",
    "              verbose = 0)\n",
    "    loss, acc = model.evaluate(X_test_tfidf, y_test_encoded, verbose=0)\n",
    "    print(f\"→ Accuracy: {acc:.4f}\")\n",
    "    \n",
    "    if acc > best_acc:\n",
    "        best_acc = acc\n",
    "        best_params = params\n",
    "        best_model = model\n",
    "        \n",
    "    K.clear_session()\n",
    "    del model\n",
    "    gc.collect()\n",
    "    \n",
    "print(\"Best Accuracy: {:.4f}\".format(best_acc))"
   ]
  },
  {
   "cell_type": "code",
   "execution_count": 27,
   "metadata": {},
   "outputs": [
    {
     "name": "stdout",
     "output_type": "stream",
     "text": [
      "Model: \"sequential\"\n",
      "_________________________________________________________________\n",
      "Layer (type)                 Output Shape              Param #   \n",
      "=================================================================\n",
      "dense (Dense)                (None, 64)                1187776   \n",
      "_________________________________________________________________\n",
      "dropout (Dropout)            (None, 64)                0         \n",
      "_________________________________________________________________\n",
      "dense_1 (Dense)              (None, 16)                1040      \n",
      "_________________________________________________________________\n",
      "dense_2 (Dense)              (None, 1)                 17        \n",
      "=================================================================\n",
      "Total params: 1,188,833\n",
      "Trainable params: 1,188,833\n",
      "Non-trainable params: 0\n",
      "_________________________________________________________________\n"
     ]
    }
   ],
   "source": [
    "#the best model is with two layers of 64 + 16 units and a single drop off layer in between\n",
    "\n",
    "best_model = build_model_secondlayer(16)\n",
    "best_model.summary()"
   ]
  },
  {
   "cell_type": "code",
   "execution_count": 11,
   "metadata": {},
   "outputs": [
    {
     "name": "stdout",
     "output_type": "stream",
     "text": [
      "num epochs: 10\n",
      "→ Accuracy: 0.6964\n",
      "num epochs: 20\n",
      "→ Accuracy: 0.8138\n",
      "num epochs: 30\n",
      "→ Accuracy: 0.7591\n",
      "num epochs: 40\n",
      "→ Accuracy: 0.8198\n",
      "num epochs: 50\n",
      "→ Accuracy: 0.8158\n"
     ]
    }
   ],
   "source": [
    "num_epochs = [10, 20, 30, 40, 50]\n",
    "\n",
    "for epochs in num_epochs:\n",
    "    print(f\"num epochs: {epochs}\")\n",
    "    best_model = build_model_secondlayer(16)\n",
    "    history = best_model.fit(X_train_tfidf,\n",
    "             y_train_encoded,\n",
    "              epochs = epochs,\n",
    "              batch_size = 32,\n",
    "              validation_split = 0.2,\n",
    "              verbose = 0)\n",
    "    loss, acc = best_model.evaluate(X_test_tfidf, y_test_encoded, verbose=0)\n",
    "    print(f\"→ Accuracy: {acc:.4f}\")\n",
    "    \n",
    "    K.clear_session()  \n",
    "    del best_model           \n",
    "    del history        \n",
    "    gc.collect() "
   ]
  },
  {
   "cell_type": "code",
   "execution_count": 20,
   "metadata": {},
   "outputs": [
    {
     "name": "stdout",
     "output_type": "stream",
     "text": [
      "0.7975708246231079\n"
     ]
    }
   ],
   "source": [
    "#the model's accuracy does not imporove after training for 20 epochs.\n",
    "#the best model has two layers with 64 and 16 units\n",
    "#it has a learning rate of 0.1 and is trained for 20 epochs\n",
    "best_model = build_model_secondlayer(16)\n",
    "history = best_model.fit(X_train_tfidf,\n",
    "             y_train_encoded,\n",
    "              epochs = 20,\n",
    "              batch_size = 32,\n",
    "              validation_split = 0.2,\n",
    "              verbose = 0)\n",
    "loss, acc = best_model.evaluate(X_test_tfidf, y_test_encoded, verbose=0)\n",
    "print(acc)"
   ]
  },
  {
   "cell_type": "code",
   "execution_count": 21,
   "metadata": {},
   "outputs": [
    {
     "name": "stdout",
     "output_type": "stream",
     "text": [
      "Review: I have read 3 books of Ann in last 3-4 months and no doubt loved it, but not sure If I am reading sa...\n",
      "True Label: False\n",
      "Predicted Label: False (Confidence: 0.25)\n",
      "\n",
      "Review: This book places too much emphasis on spending money instead of eating...well if we all had money to...\n",
      "True Label: False\n",
      "Predicted Label: False (Confidence: 0.23)\n",
      "\n",
      "Review: Why use 1 word when 12 will bewilder the reader and make the book that much thicker.  I can not beli...\n",
      "True Label: False\n",
      "Predicted Label: False (Confidence: 0.37)\n",
      "\n"
     ]
    }
   ],
   "source": [
    "\n",
    "sample_indices = np.random.choice(range(len(X_test)), 3, replace=False)\n",
    "\n",
    "for idx in sample_indices:\n",
    "    review_text = X_test.iloc[idx]\n",
    "    true_label = y_test.iloc[idx]\n",
    "    pred_prob = best_model.predict(X_test_tfidf[idx:idx+1])[0][0]\n",
    "    pred_label = int(round(pred_prob))\n",
    "    \n",
    "    pred_label_str = \"True\" if pred_label == 1 else \"False\"\n",
    "    \n",
    "    print(f\"Review: {review_text[:100]}{'...' if len(review_text) > 100 else ''}\")\n",
    "    print(f\"True Label: {true_label}\")\n",
    "    print(f\"Predicted Label: {pred_label_str} (Confidence: {pred_prob:.2f})\\n\")\n"
   ]
  }
 ],
 "metadata": {
  "kernelspec": {
   "display_name": "Python 3",
   "language": "python",
   "name": "python3"
  },
  "language_info": {
   "codemirror_mode": {
    "name": "ipython",
    "version": 3
   },
   "file_extension": ".py",
   "mimetype": "text/x-python",
   "name": "python",
   "nbconvert_exporter": "python",
   "pygments_lexer": "ipython3",
   "version": "3.6.9"
  },
  "toc": {
   "base_numbering": 1,
   "nav_menu": {},
   "number_sections": false,
   "sideBar": true,
   "skip_h1_title": false,
   "title_cell": "Table of Contents",
   "title_sidebar": "Contents",
   "toc_cell": false,
   "toc_position": {},
   "toc_section_display": true,
   "toc_window_display": false
  },
  "varInspector": {
   "cols": {
    "lenName": 16,
    "lenType": 16,
    "lenVar": 40
   },
   "kernels_config": {
    "python": {
     "delete_cmd_postfix": "",
     "delete_cmd_prefix": "del ",
     "library": "var_list.py",
     "varRefreshCmd": "print(var_dic_list())"
    },
    "r": {
     "delete_cmd_postfix": ") ",
     "delete_cmd_prefix": "rm(",
     "library": "var_list.r",
     "varRefreshCmd": "cat(var_dic_list()) "
    }
   },
   "types_to_exclude": [
    "module",
    "function",
    "builtin_function_or_method",
    "instance",
    "_Feature"
   ],
   "window_display": false
  }
 },
 "nbformat": 4,
 "nbformat_minor": 2
}
